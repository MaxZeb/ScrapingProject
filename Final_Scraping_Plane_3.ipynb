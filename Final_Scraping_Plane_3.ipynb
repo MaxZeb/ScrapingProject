{
 "cells": [
  {
   "cell_type": "markdown",
   "metadata": {},
   "source": [
    "# Motivation\n",
    "\n",
    "The scikit package for python will be one of the most important ones during the master program. Therefore I came up with the idea to get a overview what topics are coverd on the documentation webpage and especially which external resources are provided to learn more about the theoretical backgroud. My apporoch is to start at the highest level of the webpage and then go down the tree shaped by the website's directory. I limit the analysis to 3 levels below the start page, otherwise it would be computational too challenging. This approach should cover according to a quick investigation the whole website. In the end I will export two csv-files: \n",
    "1. scikit_FullLinks.csv:\n",
    "    - covers all data retrieved in the analysis without any data cleansing\n",
    "    \n",
    "    \n",
    "2. scikit_ExternalLinks.csv:\n",
    "    - covers all external links,\n",
    "    - the context in which the link was provided and \n",
    "    - the link to the scikit webpage from wehere the link was gathered"
   ]
  },
  {
   "cell_type": "markdown",
   "metadata": {},
   "source": [
    "### Load required packages"
   ]
  },
  {
   "cell_type": "code",
   "execution_count": 1,
   "metadata": {},
   "outputs": [],
   "source": [
    "from bs4 import BeautifulSoup\n",
    "import requests\n",
    "import csv\n",
    "import pandas as pd\n",
    "import queue\n",
    "from concurrent.futures import ThreadPoolExecutor\n",
    "from urllib.parse import urlparse"
   ]
  },
  {
   "cell_type": "markdown",
   "metadata": {},
   "source": [
    "### Define classes and functions needed"
   ]
  },
  {
   "cell_type": "code",
   "execution_count": 2,
   "metadata": {},
   "outputs": [],
   "source": [
    "def get_class(DRs):\n",
    "    try:\n",
    "        if len(DRs.get(\"class\")) > 1: \n",
    "            class_lap = str(\"\")\n",
    "            for i in range(len(DRs.get(\"class\"))):\n",
    "                class_lap = str(class_lap + DRs.get(\"class\")[i])\n",
    "            return class_lap\n",
    "        else: \n",
    "            return DRs.get(\"class\")\n",
    "    except:\n",
    "        \"Not Labeled\""
   ]
  },
  {
   "cell_type": "code",
   "execution_count": 3,
   "metadata": {},
   "outputs": [],
   "source": [
    "def get_title(soup):\n",
    "    try:\n",
    "        return (soup.select(\"div.body h1\")[0].get_text())[:-1]\n",
    "    except:\n",
    "        \"No Header\""
   ]
  },
  {
   "cell_type": "code",
   "execution_count": 4,
   "metadata": {},
   "outputs": [],
   "source": [
    "def website_type(webdir):\n",
    "    try: \n",
    "        if (webdir[0:4] == \"http\") or (webdir[-3:] == \"pdf\") or (webdir[0:2] == \"..\"):\n",
    "            return \"foreign\"\n",
    "        else: \n",
    "            return \"scikit\"\n",
    "    except: \n",
    "        return \"foreign\""
   ]
  },
  {
   "cell_type": "code",
   "execution_count": 5,
   "metadata": {},
   "outputs": [],
   "source": [
    "def get_links_scikit(webdir):\n",
    "    if website_type(webdir) == \"scikit\":\n",
    "        URL = \"http://scikit-learn.org/stable/\"\n",
    "        next_url = str(URL + webdir)\n",
    "        soup = BeautifulSoup(requests.get(next_url).content, \"lxml\")\n",
    "        link_data = pd.DataFrame([])\n",
    "        if len(soup.select(\"div.body a\")) > 0:\n",
    "            for DRs in soup.select(\"div.body a\"):\n",
    "                link_data = link_data.append(pd.DataFrame({\"Header\": get_title(soup), \"Location\": webdir, \n",
    "                                                           \"Links\": DRs.get(\"href\"), \"Type\": get_class(DRs)}, \n",
    "                                                          index=[0])\n",
    "                                             , ignore_index=True)\n",
    "        else: \n",
    "            link_data = pd.DataFrame({\"Header\": get_title(soup), \"Location\": webdir, \n",
    "                                      \"Links\": \"No Link here\", \"Type\": \"Not Labeled\"}, \n",
    "                                                      index=[0])\n",
    "    else: \n",
    "        link_data = pd.DataFrame({\"Header\": \"No Header\", \"Location\": webdir, \n",
    "                                  \"Links\": \"No Link here\", \"Type\": \"Not Labeled\"}, \n",
    "                                                      index=[0])\n",
    "    return link_data"
   ]
  },
  {
   "cell_type": "code",
   "execution_count": 6,
   "metadata": {},
   "outputs": [],
   "source": [
    "def simple_worker(i):\n",
    "    while True:\n",
    "        item = q.get()\n",
    "        if item == 'break':\n",
    "            break\n",
    "        results = get_links_scikit(item)\n",
    "        q.task_done()\n",
    "        if (q.unfinished_tasks in [2000,1500,1000,500,10]) or (q.unfinished_tasks < 10):\n",
    "            print(\"Task_done & amount of unfinished sub tasks: \" + str(q.unfinished_tasks))\n",
    "        return results"
   ]
  },
  {
   "cell_type": "code",
   "execution_count": 7,
   "metadata": {},
   "outputs": [],
   "source": [
    "def hard_worker(i):\n",
    "    while True:\n",
    "        item = m.get()\n",
    "        if item == 'break':\n",
    "            break\n",
    "        results = get_links_scikit(item)\n",
    "        if any(results):\n",
    "            for x in results[\"Links\"]:\n",
    "                q.put(x)\n",
    "        m.task_done()\n",
    "        print(\"Task_done & amount of unfinished tasks: \" + str(q.unfinished_tasks))\n",
    "        return results"
   ]
  },
  {
   "cell_type": "markdown",
   "metadata": {},
   "source": [
    "### Retrieving information from the website"
   ]
  },
  {
   "cell_type": "code",
   "execution_count": 8,
   "metadata": {
    "scrolled": false
   },
   "outputs": [
    {
     "name": "stdout",
     "output_type": "stream",
     "text": [
      "Task_done & amount of unfinished tasks: 1\n",
      "Task_done & amount of unfinished tasks: 2\n",
      "Task_done & amount of unfinished tasks: 49\n",
      "Task_done & amount of unfinished tasks: 90\n",
      "Task_done & amount of unfinished tasks: 121\n",
      "Task_done & amount of unfinished tasks: 209\n",
      "Task_done & amount of unfinished tasks: 773\n",
      "Task_done & amount of unfinished tasks: 823\n",
      "Task_done & amount of unfinished tasks: 851\n",
      "Task_done & amount of unfinished tasks: 852\n",
      "Task_done & amount of unfinished tasks: 928\n",
      "Task_done & amount of unfinished tasks: 1407\n",
      "Task_done & amount of unfinished tasks: 2080\n"
     ]
    }
   ],
   "source": [
    "m = queue.Queue()\n",
    "q = queue.Queue()\n",
    "initial_tasks = list(get_links_scikit(\"documentation.html\")[\"Links\"])\n",
    "for y in initial_tasks:\n",
    "    m.put(y)\n",
    "with ThreadPoolExecutor(max_workers=4) as executor:\n",
    "    m_results = executor.map(hard_worker,range(m.unfinished_tasks))\n",
    "    m.join()\n",
    "    for i in range(4):\n",
    "        m.put('break')"
   ]
  },
  {
   "cell_type": "code",
   "execution_count": 9,
   "metadata": {},
   "outputs": [],
   "source": [
    "links_full = pd.DataFrame([])\n",
    "for value in m_results:\n",
    "    links_full = links_full.append(value,ignore_index=True)"
   ]
  },
  {
   "cell_type": "code",
   "execution_count": 10,
   "metadata": {},
   "outputs": [
    {
     "name": "stdout",
     "output_type": "stream",
     "text": [
      "Task_done & amount of unfinished sub tasks: 2000\n",
      "Task_done & amount of unfinished sub tasks: 1500\n",
      "Task_done & amount of unfinished sub tasks: 1000\n",
      "Task_done & amount of unfinished sub tasks: 500\n",
      "Task_done & amount of unfinished sub tasks: 10\n",
      "Task_done & amount of unfinished sub tasks: 9\n",
      "Task_done & amount of unfinished sub tasks: 8\n",
      "Task_done & amount of unfinished sub tasks: 7\n",
      "Task_done & amount of unfinished sub tasks: 6\n",
      "Task_done & amount of unfinished sub tasks: 5\n",
      "Task_done & amount of unfinished sub tasks: 4\n",
      "Task_done & amount of unfinished sub tasks: 3\n",
      "Task_done & amount of unfinished sub tasks: 2\n",
      "Task_done & amount of unfinished sub tasks: 1\n",
      "Task_done & amount of unfinished sub tasks: 0\n"
     ]
    }
   ],
   "source": [
    "with ThreadPoolExecutor(max_workers=25) as executor:\n",
    "    q_results = executor.map(simple_worker,range(q.unfinished_tasks))\n",
    "    q.join()\n",
    "    for i in range(25):\n",
    "        q.put('break')"
   ]
  },
  {
   "cell_type": "code",
   "execution_count": 11,
   "metadata": {
    "scrolled": true
   },
   "outputs": [],
   "source": [
    "for value in q_results:\n",
    "    links_full = links_full.append(value,ignore_index=True)"
   ]
  },
  {
   "cell_type": "code",
   "execution_count": 12,
   "metadata": {},
   "outputs": [
    {
     "data": {
      "text/plain": [
       "105466"
      ]
     },
     "execution_count": 12,
     "metadata": {},
     "output_type": "execute_result"
    }
   ],
   "source": [
    "len(links_full)"
   ]
  },
  {
   "cell_type": "markdown",
   "metadata": {},
   "source": [
    "### Data Manipulation"
   ]
  },
  {
   "cell_type": "code",
   "execution_count": 13,
   "metadata": {},
   "outputs": [],
   "source": [
    "# Extract urls\n",
    "links_full[\"url\"] = links_full.Links.apply(lambda x: urlparse(x).netloc)\n",
    "links_full[\"Scikit_Location\"] = links_full.Location.apply(lambda x: str(\"http://scikit-learn.org/stable/\"+str(x)))\n",
    "# Get all external links\n",
    "to_explore = pd.DataFrame(links_full[links_full.Type == \"referenceexternal\"])"
   ]
  },
  {
   "cell_type": "code",
   "execution_count": 14,
   "metadata": {
    "scrolled": true
   },
   "outputs": [
    {
     "data": {
      "text/html": [
       "<div>\n",
       "<style scoped>\n",
       "    .dataframe tbody tr th:only-of-type {\n",
       "        vertical-align: middle;\n",
       "    }\n",
       "\n",
       "    .dataframe tbody tr th {\n",
       "        vertical-align: top;\n",
       "    }\n",
       "\n",
       "    .dataframe thead th {\n",
       "        text-align: right;\n",
       "    }\n",
       "</style>\n",
       "<table border=\"1\" class=\"dataframe\">\n",
       "  <thead>\n",
       "    <tr style=\"text-align: right;\">\n",
       "      <th></th>\n",
       "      <th>Header</th>\n",
       "      <th>Location</th>\n",
       "      <th>Links</th>\n",
       "      <th>Type</th>\n",
       "      <th>url</th>\n",
       "      <th>Scikit_Location</th>\n",
       "    </tr>\n",
       "  </thead>\n",
       "  <tbody>\n",
       "    <tr>\n",
       "      <th>1997</th>\n",
       "      <td>External Resources, Videos and Talks</td>\n",
       "      <td>presentations.html</td>\n",
       "      <td>https://www.youtube.com/watch?v=Zd5dfooZWG4</td>\n",
       "      <td>referenceexternal</td>\n",
       "      <td>www.youtube.com</td>\n",
       "      <td>http://scikit-learn.org/stable/presentations.html</td>\n",
       "    </tr>\n",
       "    <tr>\n",
       "      <th>2001</th>\n",
       "      <td>External Resources, Videos and Talks</td>\n",
       "      <td>presentations.html</td>\n",
       "      <td>https://www.youtube.com/watch?v=cHZONQ2-x7I</td>\n",
       "      <td>referenceexternal</td>\n",
       "      <td>www.youtube.com</td>\n",
       "      <td>http://scikit-learn.org/stable/presentations.html</td>\n",
       "    </tr>\n",
       "    <tr>\n",
       "      <th>11651</th>\n",
       "      <td>Who is using scikit-learn?</td>\n",
       "      <td>testimonials/testimonials.html</td>\n",
       "      <td>https://www.youtube.com/watch?v=Jm-eBD9xR3w</td>\n",
       "      <td>referenceexternal</td>\n",
       "      <td>www.youtube.com</td>\n",
       "      <td>http://scikit-learn.org/stable/testimonials/te...</td>\n",
       "    </tr>\n",
       "  </tbody>\n",
       "</table>\n",
       "</div>"
      ],
      "text/plain": [
       "                                     Header                        Location  \\\n",
       "1997   External Resources, Videos and Talks              presentations.html   \n",
       "2001   External Resources, Videos and Talks              presentations.html   \n",
       "11651            Who is using scikit-learn?  testimonials/testimonials.html   \n",
       "\n",
       "                                             Links               Type  \\\n",
       "1997   https://www.youtube.com/watch?v=Zd5dfooZWG4  referenceexternal   \n",
       "2001   https://www.youtube.com/watch?v=cHZONQ2-x7I  referenceexternal   \n",
       "11651  https://www.youtube.com/watch?v=Jm-eBD9xR3w  referenceexternal   \n",
       "\n",
       "                   url                                    Scikit_Location  \n",
       "1997   www.youtube.com  http://scikit-learn.org/stable/presentations.html  \n",
       "2001   www.youtube.com  http://scikit-learn.org/stable/presentations.html  \n",
       "11651  www.youtube.com  http://scikit-learn.org/stable/testimonials/te...  "
      ]
     },
     "execution_count": 14,
     "metadata": {},
     "output_type": "execute_result"
    }
   ],
   "source": [
    "# Example1: Find all youtube links from scikit\n",
    "to_explore[to_explore['url'].str.contains('youtube', na = False)]"
   ]
  },
  {
   "cell_type": "code",
   "execution_count": 15,
   "metadata": {},
   "outputs": [
    {
     "data": {
      "text/html": [
       "<div>\n",
       "<style scoped>\n",
       "    .dataframe tbody tr th:only-of-type {\n",
       "        vertical-align: middle;\n",
       "    }\n",
       "\n",
       "    .dataframe tbody tr th {\n",
       "        vertical-align: top;\n",
       "    }\n",
       "\n",
       "    .dataframe thead th {\n",
       "        text-align: right;\n",
       "    }\n",
       "</style>\n",
       "<table border=\"1\" class=\"dataframe\">\n",
       "  <thead>\n",
       "    <tr style=\"text-align: right;\">\n",
       "      <th></th>\n",
       "      <th>Header</th>\n",
       "      <th>Location</th>\n",
       "      <th>Links</th>\n",
       "      <th>Type</th>\n",
       "      <th>url</th>\n",
       "      <th>Scikit_Location</th>\n",
       "    </tr>\n",
       "  </thead>\n",
       "  <tbody>\n",
       "    <tr>\n",
       "      <th>48</th>\n",
       "      <td>An introduction to machine learning with sciki...</td>\n",
       "      <td>tutorial/basic/tutorial.html</td>\n",
       "      <td>https://en.wikipedia.org/wiki/Machine_learning</td>\n",
       "      <td>referenceexternal</td>\n",
       "      <td>en.wikipedia.org</td>\n",
       "      <td>http://scikit-learn.org/stable/tutorial/basic/...</td>\n",
       "    </tr>\n",
       "    <tr>\n",
       "      <th>50</th>\n",
       "      <td>An introduction to machine learning with sciki...</td>\n",
       "      <td>tutorial/basic/tutorial.html</td>\n",
       "      <td>https://en.wikipedia.org/wiki/Sample_(statistics)</td>\n",
       "      <td>referenceexternal</td>\n",
       "      <td>en.wikipedia.org</td>\n",
       "      <td>http://scikit-learn.org/stable/tutorial/basic/...</td>\n",
       "    </tr>\n",
       "    <tr>\n",
       "      <th>51</th>\n",
       "      <td>An introduction to machine learning with sciki...</td>\n",
       "      <td>tutorial/basic/tutorial.html</td>\n",
       "      <td>https://en.wikipedia.org/wiki/Multivariate_ran...</td>\n",
       "      <td>referenceexternal</td>\n",
       "      <td>en.wikipedia.org</td>\n",
       "      <td>http://scikit-learn.org/stable/tutorial/basic/...</td>\n",
       "    </tr>\n",
       "    <tr>\n",
       "      <th>52</th>\n",
       "      <td>An introduction to machine learning with sciki...</td>\n",
       "      <td>tutorial/basic/tutorial.html</td>\n",
       "      <td>https://en.wikipedia.org/wiki/Supervised_learning</td>\n",
       "      <td>referenceexternal</td>\n",
       "      <td>en.wikipedia.org</td>\n",
       "      <td>http://scikit-learn.org/stable/tutorial/basic/...</td>\n",
       "    </tr>\n",
       "    <tr>\n",
       "      <th>54</th>\n",
       "      <td>An introduction to machine learning with sciki...</td>\n",
       "      <td>tutorial/basic/tutorial.html</td>\n",
       "      <td>https://en.wikipedia.org/wiki/Classification_i...</td>\n",
       "      <td>referenceexternal</td>\n",
       "      <td>en.wikipedia.org</td>\n",
       "      <td>http://scikit-learn.org/stable/tutorial/basic/...</td>\n",
       "    </tr>\n",
       "  </tbody>\n",
       "</table>\n",
       "</div>"
      ],
      "text/plain": [
       "                                               Header  \\\n",
       "48  An introduction to machine learning with sciki...   \n",
       "50  An introduction to machine learning with sciki...   \n",
       "51  An introduction to machine learning with sciki...   \n",
       "52  An introduction to machine learning with sciki...   \n",
       "54  An introduction to machine learning with sciki...   \n",
       "\n",
       "                        Location  \\\n",
       "48  tutorial/basic/tutorial.html   \n",
       "50  tutorial/basic/tutorial.html   \n",
       "51  tutorial/basic/tutorial.html   \n",
       "52  tutorial/basic/tutorial.html   \n",
       "54  tutorial/basic/tutorial.html   \n",
       "\n",
       "                                                Links               Type  \\\n",
       "48     https://en.wikipedia.org/wiki/Machine_learning  referenceexternal   \n",
       "50  https://en.wikipedia.org/wiki/Sample_(statistics)  referenceexternal   \n",
       "51  https://en.wikipedia.org/wiki/Multivariate_ran...  referenceexternal   \n",
       "52  https://en.wikipedia.org/wiki/Supervised_learning  referenceexternal   \n",
       "54  https://en.wikipedia.org/wiki/Classification_i...  referenceexternal   \n",
       "\n",
       "                 url                                    Scikit_Location  \n",
       "48  en.wikipedia.org  http://scikit-learn.org/stable/tutorial/basic/...  \n",
       "50  en.wikipedia.org  http://scikit-learn.org/stable/tutorial/basic/...  \n",
       "51  en.wikipedia.org  http://scikit-learn.org/stable/tutorial/basic/...  \n",
       "52  en.wikipedia.org  http://scikit-learn.org/stable/tutorial/basic/...  \n",
       "54  en.wikipedia.org  http://scikit-learn.org/stable/tutorial/basic/...  "
      ]
     },
     "execution_count": 15,
     "metadata": {},
     "output_type": "execute_result"
    }
   ],
   "source": [
    "# Example2: Find all wikipedia links from scikit\n",
    "(to_explore[to_explore['url'].str.contains('wikipedia', na = False)])[0:5]"
   ]
  },
  {
   "cell_type": "code",
   "execution_count": 16,
   "metadata": {
    "scrolled": true
   },
   "outputs": [
    {
     "data": {
      "text/html": [
       "<div>\n",
       "<style scoped>\n",
       "    .dataframe tbody tr th:only-of-type {\n",
       "        vertical-align: middle;\n",
       "    }\n",
       "\n",
       "    .dataframe tbody tr th {\n",
       "        vertical-align: top;\n",
       "    }\n",
       "\n",
       "    .dataframe thead th {\n",
       "        text-align: right;\n",
       "    }\n",
       "</style>\n",
       "<table border=\"1\" class=\"dataframe\">\n",
       "  <thead>\n",
       "    <tr style=\"text-align: right;\">\n",
       "      <th></th>\n",
       "      <th>Header</th>\n",
       "      <th>Location</th>\n",
       "      <th>Links</th>\n",
       "      <th>Type</th>\n",
       "      <th>url</th>\n",
       "      <th>Scikit_Location</th>\n",
       "    </tr>\n",
       "  </thead>\n",
       "  <tbody>\n",
       "    <tr>\n",
       "      <th>22739</th>\n",
       "      <td>1.5. Stochastic Gradient Descent</td>\n",
       "      <td>modules/sgd.html</td>\n",
       "      <td>https://en.wikipedia.org/wiki/Support_vector_m...</td>\n",
       "      <td>referenceexternal</td>\n",
       "      <td>en.wikipedia.org</td>\n",
       "      <td>http://scikit-learn.org/stable/modules/sgd.html</td>\n",
       "    </tr>\n",
       "    <tr>\n",
       "      <th>22740</th>\n",
       "      <td>1.5. Stochastic Gradient Descent</td>\n",
       "      <td>modules/sgd.html</td>\n",
       "      <td>https://en.wikipedia.org/wiki/Logistic_regression</td>\n",
       "      <td>referenceexternal</td>\n",
       "      <td>en.wikipedia.org</td>\n",
       "      <td>http://scikit-learn.org/stable/modules/sgd.html</td>\n",
       "    </tr>\n",
       "    <tr>\n",
       "      <th>22768</th>\n",
       "      <td>1.5. Stochastic Gradient Descent</td>\n",
       "      <td>modules/sgd.html</td>\n",
       "      <td>https://docs.scipy.org/doc/scipy/reference/spa...</td>\n",
       "      <td>referenceexternal</td>\n",
       "      <td>docs.scipy.org</td>\n",
       "      <td>http://scikit-learn.org/stable/modules/sgd.html</td>\n",
       "    </tr>\n",
       "    <tr>\n",
       "      <th>22769</th>\n",
       "      <td>1.5. Stochastic Gradient Descent</td>\n",
       "      <td>modules/sgd.html</td>\n",
       "      <td>http://docs.scipy.org/doc/scipy/reference/gene...</td>\n",
       "      <td>referenceexternal</td>\n",
       "      <td>docs.scipy.org</td>\n",
       "      <td>http://scikit-learn.org/stable/modules/sgd.html</td>\n",
       "    </tr>\n",
       "    <tr>\n",
       "      <th>22776</th>\n",
       "      <td>1.5. Stochastic Gradient Descent</td>\n",
       "      <td>modules/sgd.html</td>\n",
       "      <td>http://yann.lecun.com/exdb/publis/pdf/lecun-98...</td>\n",
       "      <td>referenceexternal</td>\n",
       "      <td>yann.lecun.com</td>\n",
       "      <td>http://scikit-learn.org/stable/modules/sgd.html</td>\n",
       "    </tr>\n",
       "  </tbody>\n",
       "</table>\n",
       "</div>"
      ],
      "text/plain": [
       "                                 Header          Location  \\\n",
       "22739  1.5. Stochastic Gradient Descent  modules/sgd.html   \n",
       "22740  1.5. Stochastic Gradient Descent  modules/sgd.html   \n",
       "22768  1.5. Stochastic Gradient Descent  modules/sgd.html   \n",
       "22769  1.5. Stochastic Gradient Descent  modules/sgd.html   \n",
       "22776  1.5. Stochastic Gradient Descent  modules/sgd.html   \n",
       "\n",
       "                                                   Links               Type  \\\n",
       "22739  https://en.wikipedia.org/wiki/Support_vector_m...  referenceexternal   \n",
       "22740  https://en.wikipedia.org/wiki/Logistic_regression  referenceexternal   \n",
       "22768  https://docs.scipy.org/doc/scipy/reference/spa...  referenceexternal   \n",
       "22769  http://docs.scipy.org/doc/scipy/reference/gene...  referenceexternal   \n",
       "22776  http://yann.lecun.com/exdb/publis/pdf/lecun-98...  referenceexternal   \n",
       "\n",
       "                    url                                  Scikit_Location  \n",
       "22739  en.wikipedia.org  http://scikit-learn.org/stable/modules/sgd.html  \n",
       "22740  en.wikipedia.org  http://scikit-learn.org/stable/modules/sgd.html  \n",
       "22768    docs.scipy.org  http://scikit-learn.org/stable/modules/sgd.html  \n",
       "22769    docs.scipy.org  http://scikit-learn.org/stable/modules/sgd.html  \n",
       "22776    yann.lecun.com  http://scikit-learn.org/stable/modules/sgd.html  "
      ]
     },
     "execution_count": 16,
     "metadata": {},
     "output_type": "execute_result"
    }
   ],
   "source": [
    "# Example3: Find all external links for the topic Stochastic Gradient Descent\n",
    "(to_explore[to_explore['Header'].str.contains('1.5. Stochastic Gradient Descent', na = False)])[0:5]"
   ]
  },
  {
   "cell_type": "code",
   "execution_count": 17,
   "metadata": {},
   "outputs": [],
   "source": [
    "# Get all external links\n",
    "export = pd.merge(to_explore[['Header','Links']].drop_duplicates(), to_explore[[\"Scikit_Location\"]], \n",
    "                  left_index=True, right_index=True, sort=True)\n",
    "export = pd.DataFrame(export[~export[\"Header\"].isin([\"Glossary of Common Terms and API Elements\",\n",
    "                                              \"Release History\",\"Version 0.19.2\",\"Version 0.18.2\",\n",
    "                                              \"About us\",\"Contributing\"])])"
   ]
  },
  {
   "cell_type": "markdown",
   "metadata": {},
   "source": [
    "### Saving data"
   ]
  },
  {
   "cell_type": "code",
   "execution_count": 18,
   "metadata": {},
   "outputs": [],
   "source": [
    "links_full.to_csv(\"scikit_FullLinks.csv\")\n",
    "export.to_csv(\"scikit_ExternalLinks.csv\")"
   ]
  }
 ],
 "metadata": {
  "kernelspec": {
   "display_name": "Python 3",
   "language": "python",
   "name": "python3"
  },
  "language_info": {
   "codemirror_mode": {
    "name": "ipython",
    "version": 3
   },
   "file_extension": ".py",
   "mimetype": "text/x-python",
   "name": "python",
   "nbconvert_exporter": "python",
   "pygments_lexer": "ipython3",
   "version": "3.6.5"
  }
 },
 "nbformat": 4,
 "nbformat_minor": 2
}
